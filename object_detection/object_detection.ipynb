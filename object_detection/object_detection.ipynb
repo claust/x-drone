{
 "cells": [
  {
   "cell_type": "markdown",
   "id": "50f4e584-da93-4657-9e50-ac9ad2f9349c",
   "metadata": {},
   "source": [
    "## Setup"
   ]
  },
  {
   "cell_type": "code",
   "execution_count": 2,
   "id": "7e455613-accc-4f19-aa0a-381a1d563e39",
   "metadata": {},
   "outputs": [
    {
     "name": "stdout",
     "output_type": "stream",
     "text": [
      "Sun Feb 25 15:51:15 2024       \n",
      "+-----------------------------------------------------------------------------------------+\n",
      "| NVIDIA-SMI 550.54.10              Driver Version: 551.61         CUDA Version: 12.4     |\n",
      "|-----------------------------------------+------------------------+----------------------+\n",
      "| GPU  Name                 Persistence-M | Bus-Id          Disp.A | Volatile Uncorr. ECC |\n",
      "| Fan  Temp   Perf          Pwr:Usage/Cap |           Memory-Usage | GPU-Util  Compute M. |\n",
      "|                                         |                        |               MIG M. |\n",
      "|=========================================+========================+======================|\n",
      "|   0  NVIDIA GeForce GTX 1080 Ti     On  |   00000000:01:00.0  On |                  N/A |\n",
      "|  0%   26C    P8             13W /  250W |    1493MiB /  11264MiB |      0%      Default |\n",
      "|                                         |                        |                  N/A |\n",
      "+-----------------------------------------+------------------------+----------------------+\n",
      "                                                                                         \n",
      "+-----------------------------------------------------------------------------------------+\n",
      "| Processes:                                                                              |\n",
      "|  GPU   GI   CI        PID   Type   Process name                              GPU Memory |\n",
      "|        ID   ID                                                               Usage      |\n",
      "|=========================================================================================|\n",
      "|    0   N/A  N/A        37      G   /Xwayland                                   N/A      |\n",
      "+-----------------------------------------------------------------------------------------+\n"
     ]
    }
   ],
   "source": [
    "!nvidia-smi"
   ]
  },
  {
   "cell_type": "code",
   "execution_count": 8,
   "id": "bf220cf7-cb94-4f14-ac75-77308d99d7c8",
   "metadata": {},
   "outputs": [
    {
     "name": "stdout",
     "output_type": "stream",
     "text": [
      "/home/claus/repos/x-drone/object_detection\n"
     ]
    }
   ],
   "source": [
    "import os\n",
    "HOME = os.getcwd()\n",
    "HOME_YOLO = \"/home/claus/repos/yolov9\"\n",
    "print(HOME)"
   ]
  },
  {
   "cell_type": "code",
   "execution_count": 6,
   "id": "80d639be-794d-4860-956e-9908f3b334be",
   "metadata": {},
   "outputs": [],
   "source": [
    "!mkdir -p {HOME}/data\n",
    "!wget -P {HOME}/data -q https://media.roboflow.com/notebooks/examples/dog.jpeg\n",
    "SOURCE_IMAGE_PATH = f\"{HOME}/dog.jpeg\""
   ]
  },
  {
   "cell_type": "markdown",
   "id": "f7d2fe12-7e16-4d9e-b222-733c15d56732",
   "metadata": {},
   "source": [
    "## Get weights"
   ]
  },
  {
   "cell_type": "code",
   "execution_count": 4,
   "id": "3c962b79-a0fd-4870-be09-290072a583f0",
   "metadata": {},
   "outputs": [],
   "source": [
    "!mkdir -p {HOME}/weights"
   ]
  },
  {
   "cell_type": "code",
   "execution_count": 5,
   "id": "20f3670b-45a0-492e-848d-189289cc7463",
   "metadata": {},
   "outputs": [],
   "source": [
    "!wget -P {HOME}/weights -q https://github.com/WongKinYiu/yolov9/releases/download/v0.1/yolov9-c.pt\n",
    "!wget -P {HOME}/weights -q https://github.com/WongKinYiu/yolov9/releases/download/v0.1/yolov9-e.pt\n",
    "!wget -P {HOME}/weights -q https://github.com/WongKinYiu/yolov9/releases/download/v0.1/gelan-c.pt\n",
    "!wget -P {HOME}/weights -q https://github.com/WongKinYiu/yolov9/releases/download/v0.1/gelan-e.pt"
   ]
  },
  {
   "cell_type": "code",
   "execution_count": 12,
   "id": "0fd6fddb-db6e-4fae-a601-9348c36e5cb9",
   "metadata": {},
   "outputs": [
    {
     "name": "stdout",
     "output_type": "stream",
     "text": [
      "\u001b[34m\u001b[1mdetect: \u001b[0mweights=['/home/claus/repos/x-drone/object_detection/weights/gelan-c.pt'], source=/home/claus/repos/x-drone/object_detection/data/dog.jpeg, data=../../yolov9/data/coco128.yaml, imgsz=[640, 640], conf_thres=0.1, iou_thres=0.45, max_det=1000, device=0, view_img=False, save_txt=False, save_conf=False, save_crop=False, nosave=False, classes=None, agnostic_nms=False, augment=False, visualize=False, update=False, project=/home/claus/repos/x-drone/object_detection/data, name=runs, exist_ok=False, line_thickness=3, hide_labels=False, hide_conf=False, half=False, dnn=False, vid_stride=1\n",
      "YOLOv5 🚀 1e33dbb Python-3.8.18 torch-2.2.1+cu121 CUDA:0 (NVIDIA GeForce GTX 1080 Ti, 11264MiB)\n",
      "\n",
      "Fusing layers... \n",
      "Model summary: 467 layers, 25472640 parameters, 0 gradients, 102.8 GFLOPs\n",
      "image 1/1 /home/claus/repos/x-drone/object_detection/data/dog.jpeg: 640x384 1 person, 1 car, 1 dog, 1 handbag, 84.8ms\n",
      "Speed: 0.3ms pre-process, 84.8ms inference, 94.4ms NMS per image at shape (1, 3, 640, 640)\n",
      "Results saved to \u001b[1m/home/claus/repos/x-drone/object_detection/data/runs\u001b[0m\n"
     ]
    }
   ],
   "source": [
    "!python {HOME_YOLO}/detect.py --weights {HOME}/weights/gelan-c.pt --conf 0.1 --source {HOME}/data/dog.jpeg --project {HOME}/data --name runs --device 0"
   ]
  },
  {
   "cell_type": "code",
   "execution_count": null,
   "id": "c1a1412f-3f87-4dca-a9c4-292fa76bc038",
   "metadata": {},
   "outputs": [],
   "source": []
  }
 ],
 "metadata": {
  "kernelspec": {
   "display_name": "Python 3 (ipykernel)",
   "language": "python",
   "name": "python3"
  },
  "language_info": {
   "codemirror_mode": {
    "name": "ipython",
    "version": 3
   },
   "file_extension": ".py",
   "mimetype": "text/x-python",
   "name": "python",
   "nbconvert_exporter": "python",
   "pygments_lexer": "ipython3",
   "version": "3.8.18"
  }
 },
 "nbformat": 4,
 "nbformat_minor": 5
}
